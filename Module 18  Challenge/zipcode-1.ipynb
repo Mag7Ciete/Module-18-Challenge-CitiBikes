{
 "cells": [
  {
   "cell_type": "code",
   "execution_count": null,
   "metadata": {},
   "outputs": [],
   "source": [
    "import pandas as pd\n",
    "import requests\n",
    "\n",
    "# Replace 'YOUR_API_KEY' with your actual IPStack API key\n",
    "api_key = '06b0f71bac6b10636e01ee02ebdea636'\n",
    "\n",
    "# Load CSV file with latitude and longitude columns\n",
    "df = pd.read_csv('your_file.csv')\n",
    "\n",
    "# Function to get zip code based on latitude and longitude\n",
    "def get_zip_code(lat, lng):\n",
    "    url = f\"http://api.ipstack.com/{lat},{lng}?access_key={api_key}\"\n",
    "    response = requests.get(url)\n",
    "    if response.status_code == 200:\n",
    "        json_data = response.json()\n",
    "        return json_data['zip']\n",
    "    else:\n",
    "        return None\n",
    "\n",
    "# Apply the function to each row in the dataframe\n",
    "df['Zip Code'] = df.apply(lambda row: get_zip_code(row['Latitude'], row['Longitude']), axis=1)\n",
    "\n",
    "# Save the updated dataframe to a new CSV file\n",
    "df.to_csv('your_updated_file.csv', index=False)\n"
   ]
  }
 ],
 "metadata": {
  "language_info": {
   "name": "python"
  },
  "orig_nbformat": 4
 },
 "nbformat": 4,
 "nbformat_minor": 2
}
